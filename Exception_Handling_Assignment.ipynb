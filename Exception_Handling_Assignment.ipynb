{
  "nbformat": 4,
  "nbformat_minor": 0,
  "metadata": {
    "colab": {
      "name": "Exception Handling Assignment.ipynb",
      "provenance": [],
      "authorship_tag": "ABX9TyNXufXjlp9Yv80aEqcW3/FG",
      "include_colab_link": true
    },
    "kernelspec": {
      "name": "python3",
      "display_name": "Python 3"
    },
    "language_info": {
      "name": "python"
    }
  },
  "cells": [
    {
      "cell_type": "markdown",
      "metadata": {
        "id": "view-in-github",
        "colab_type": "text"
      },
      "source": [
        "<a href=\"https://colab.research.google.com/github/Sanjogmahe/ineuron_assignments/blob/main/Exception_Handling_Assignment.ipynb\" target=\"_parent\"><img src=\"https://colab.research.google.com/assets/colab-badge.svg\" alt=\"Open In Colab\"/></a>"
      ]
    },
    {
      "cell_type": "markdown",
      "metadata": {
        "id": "EgKB9QSIsdcM"
      },
      "source": [
        "1. Write a function to compute 5/0 and use try/except to catch the exceptions. "
      ]
    },
    {
      "cell_type": "code",
      "metadata": {
        "colab": {
          "base_uri": "https://localhost:8080/"
        },
        "id": "rVrQnOWKsRNA",
        "outputId": "a1311ca2-b6e7-4eb3-851b-1109912cac79"
      },
      "source": [
        "def zerodivision(n):\n",
        "  try:\n",
        "    return (n/0)\n",
        "  except ZeroDivisionError as e:\n",
        "    return (f\"Number {5} {e} is not possible\")\n",
        "\n",
        "print(zerodivision(5))\n"
      ],
      "execution_count": 4,
      "outputs": [
        {
          "output_type": "stream",
          "text": [
            "Number 5 division by zero is not possible\n"
          ],
          "name": "stdout"
        }
      ]
    },
    {
      "cell_type": "markdown",
      "metadata": {
        "id": "BG_VXeyUt1gL"
      },
      "source": [
        "2. Implement a Python program to generate all sentences where subject is in  [\"Americans\", \"Indians\"] and verb is in [\"Play\", \"watch\"] and the object is in  [\"Baseball\",\"cricket\"]. "
      ]
    },
    {
      "cell_type": "code",
      "metadata": {
        "colab": {
          "base_uri": "https://localhost:8080/"
        },
        "id": "JJNI79npshpM",
        "outputId": "941cecb7-cdc6-4b50-bb25-ecfb8b5131d4"
      },
      "source": [
        "subjects=[\"Americans\",\"Indians\"] \n",
        "verbs=[\"play\",\"watch\"] \n",
        "objects=[\"Baseball\",\"Cricket\"] \n",
        "\n",
        "def sentences(subjects,verbs,objects):\n",
        "  for i in subjects:\n",
        "    for j in verbs:\n",
        "      for k in objects:\n",
        "        print(i+ ' ' + j+ ' ' + k + '.')\n",
        "\n",
        "sentences(subjects,verbs,objects)"
      ],
      "execution_count": 8,
      "outputs": [
        {
          "output_type": "stream",
          "text": [
            "Americans play Baseball.\n",
            "Americans play Cricket.\n",
            "Americans watch Baseball.\n",
            "Americans watch Cricket.\n",
            "Indians play Baseball.\n",
            "Indians play Cricket.\n",
            "Indians watch Baseball.\n",
            "Indians watch Cricket.\n"
          ],
          "name": "stdout"
        }
      ]
    },
    {
      "cell_type": "code",
      "metadata": {
        "id": "ZaFeL6AHujjF"
      },
      "source": [
        ""
      ],
      "execution_count": null,
      "outputs": []
    }
  ]
}