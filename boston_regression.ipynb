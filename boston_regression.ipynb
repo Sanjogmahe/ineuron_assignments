{
  "nbformat": 4,
  "nbformat_minor": 0,
  "metadata": {
    "colab": {
      "name": "boston_regression.ipynb",
      "provenance": [],
      "collapsed_sections": [],
      "include_colab_link": true
    },
    "kernelspec": {
      "name": "python3",
      "display_name": "Python 3"
    },
    "language_info": {
      "name": "python"
    }
  },
  "cells": [
    {
      "cell_type": "markdown",
      "metadata": {
        "id": "view-in-github",
        "colab_type": "text"
      },
      "source": [
        "<a href=\"https://colab.research.google.com/github/Sanjogmahe/ineuron_assignments/blob/main/boston_regression.ipynb\" target=\"_parent\"><img src=\"https://colab.research.google.com/assets/colab-badge.svg\" alt=\"Open In Colab\"/></a>"
      ]
    },
    {
      "cell_type": "code",
      "metadata": {
        "colab": {
          "base_uri": "https://localhost:8080/"
        },
        "id": "y9vEqWVofLtU",
        "outputId": "ca991954-3c59-412a-b877-fbcf83e8a6eb"
      },
      "source": [
        "import numpy as np\n",
        "import pandas as pd\n",
        "import tensorflow as tf\n",
        "from sklearn.preprocessing import StandardScaler\n",
        "\n",
        "data=tf.keras.datasets.boston_housing\n",
        "(X_train,Y_train),(X_test,Y_test)=data.load_data()\n",
        "# X_train,X_valid  = X_train_full[:350], X_train_full[350:]\n",
        "# Y_train,Y_valid = Y_train_full[:350], Y_train_full[350:]\n",
        "\n",
        "print(pd.DataFrame(X_test))\n",
        "print(X_train.shape)\n",
        "print(X_test.shape)"
      ],
      "execution_count": 83,
      "outputs": [
        {
          "output_type": "stream",
          "text": [
            "           0    1      2    3      4   ...    8      9     10      11     12\n",
            "0    18.08460  0.0  18.10  0.0  0.679  ...  24.0  666.0  20.2   27.25  29.05\n",
            "1     0.12329  0.0  10.01  0.0  0.547  ...   6.0  432.0  17.8  394.95  16.21\n",
            "2     0.05497  0.0   5.19  0.0  0.515  ...   5.0  224.0  20.2  396.90   9.74\n",
            "3     1.27346  0.0  19.58  1.0  0.605  ...   5.0  403.0  14.7  338.92   5.50\n",
            "4     0.07151  0.0   4.49  0.0  0.449  ...   3.0  247.0  18.5  395.15   8.44\n",
            "..        ...  ...    ...  ...    ...  ...   ...    ...   ...     ...    ...\n",
            "97    3.47428  0.0  18.10  1.0  0.718  ...  24.0  666.0  20.2  354.55   5.29\n",
            "98    0.07896  0.0  12.83  0.0  0.437  ...   5.0  398.0  18.7  394.92   6.78\n",
            "99    1.83377  0.0  19.58  1.0  0.605  ...   5.0  403.0  14.7  389.61   1.92\n",
            "100   0.35809  0.0   6.20  1.0  0.507  ...   8.0  307.0  17.4  391.70   9.71\n",
            "101   2.92400  0.0  19.58  0.0  0.605  ...   5.0  403.0  14.7  240.16   9.81\n",
            "\n",
            "[102 rows x 13 columns]\n",
            "(404, 13)\n",
            "(102, 13)\n"
          ],
          "name": "stdout"
        }
      ]
    },
    {
      "cell_type": "code",
      "metadata": {
        "id": "qL1tqms6fToD"
      },
      "source": [
        "\n"
      ],
      "execution_count": 83,
      "outputs": []
    },
    {
      "cell_type": "code",
      "metadata": {
        "id": "_CHmjhGvtzZU"
      },
      "source": [
        "LAYERS=[tf.keras.layers.Dense(30,activation=\"pelu\",input_shape=X_train.shape[1:]),\n",
        "        tf.keras.layers.Dense(20,activation=\"pelu\",kernel_initializer='he_normal',kernel_regularizer='l1_l2'),\n",
        "        tf.keras.layers.Dropout(rate=0.2),\n",
        "        tf.keras.layers.Dense(10,activation=\"pelu\",kernel_initializer='he_normal',kernel_regularizer='l1_l2'),\n",
        "        tf.keras.layers.Dropout(rate=0.2),\n",
        "        tf.keras.layers.Dense(1,activation='relu')]"
      ],
      "execution_count": 84,
      "outputs": []
    },
    {
      "cell_type": "code",
      "metadata": {
        "id": "Hkrs6Q671wQ_"
      },
      "source": [
        "model=tf.keras.models.Sequential(LAYERS)"
      ],
      "execution_count": 85,
      "outputs": []
    },
    {
      "cell_type": "code",
      "metadata": {
        "id": "OleWk4hB2NNg"
      },
      "source": [
        "LOSS=\"mae\"\n",
        "OPTIMIZER=\"sgd\"\n",
        "CALLBACKS = [tf.keras.callbacks.EarlyStopping(patience=5)]\n",
        "# VALIDATION=[\"X_valid,Y_valid\"]\n",
        "# epochs=tf.keras.callbacks.EarlyStopping()\n",
        "# tf.keras.callbacks.\n",
        "\n",
        "scaler = StandardScaler()\n",
        "\n",
        "X_train = scaler.fit_transform(X_train)\n",
        "X_valid = scaler.transform(X_valid)\n",
        "X_test = scaler.transform(X_test)\n",
        "\n",
        "model.compile(loss=LOSS, optimizer=OPTIMIZER) "
      ],
      "execution_count": 86,
      "outputs": []
    },
    {
      "cell_type": "code",
      "metadata": {
        "colab": {
          "base_uri": "https://localhost:8080/"
        },
        "id": "DTCmB7FB6FyN",
        "outputId": "87045d79-27ce-4e74-e77c-30dd1d4be8d9"
      },
      "source": [
        "history=model.fit(X_train,Y_train, epochs=50, verbose=2, callbacks=CALLBACKS)"
      ],
      "execution_count": 87,
      "outputs": [
        {
          "output_type": "stream",
          "text": [
            "Epoch 1/50\n",
            "13/13 - 0s - loss: 23.7892\n",
            "WARNING:tensorflow:Early stopping conditioned on metric `val_loss` which is not available. Available metrics are: loss\n",
            "Epoch 2/50\n",
            "13/13 - 0s - loss: 22.7581\n",
            "WARNING:tensorflow:Early stopping conditioned on metric `val_loss` which is not available. Available metrics are: loss\n",
            "Epoch 3/50\n",
            "13/13 - 0s - loss: 21.0508\n",
            "WARNING:tensorflow:Early stopping conditioned on metric `val_loss` which is not available. Available metrics are: loss\n",
            "Epoch 4/50\n",
            "13/13 - 0s - loss: 19.5442\n",
            "WARNING:tensorflow:Early stopping conditioned on metric `val_loss` which is not available. Available metrics are: loss\n",
            "Epoch 5/50\n",
            "13/13 - 0s - loss: 17.9426\n",
            "WARNING:tensorflow:Early stopping conditioned on metric `val_loss` which is not available. Available metrics are: loss\n",
            "Epoch 6/50\n",
            "13/13 - 0s - loss: 15.3383\n",
            "WARNING:tensorflow:Early stopping conditioned on metric `val_loss` which is not available. Available metrics are: loss\n",
            "Epoch 7/50\n",
            "13/13 - 0s - loss: 13.6865\n",
            "WARNING:tensorflow:Early stopping conditioned on metric `val_loss` which is not available. Available metrics are: loss\n",
            "Epoch 8/50\n",
            "13/13 - 0s - loss: 11.0874\n",
            "WARNING:tensorflow:Early stopping conditioned on metric `val_loss` which is not available. Available metrics are: loss\n",
            "Epoch 9/50\n",
            "13/13 - 0s - loss: 9.2267\n",
            "WARNING:tensorflow:Early stopping conditioned on metric `val_loss` which is not available. Available metrics are: loss\n",
            "Epoch 10/50\n",
            "13/13 - 0s - loss: 8.2469\n",
            "WARNING:tensorflow:Early stopping conditioned on metric `val_loss` which is not available. Available metrics are: loss\n",
            "Epoch 11/50\n",
            "13/13 - 0s - loss: 8.1353\n",
            "WARNING:tensorflow:Early stopping conditioned on metric `val_loss` which is not available. Available metrics are: loss\n",
            "Epoch 12/50\n",
            "13/13 - 0s - loss: 7.8148\n",
            "WARNING:tensorflow:Early stopping conditioned on metric `val_loss` which is not available. Available metrics are: loss\n",
            "Epoch 13/50\n",
            "13/13 - 0s - loss: 8.2284\n",
            "WARNING:tensorflow:Early stopping conditioned on metric `val_loss` which is not available. Available metrics are: loss\n",
            "Epoch 14/50\n",
            "13/13 - 0s - loss: 7.1956\n",
            "WARNING:tensorflow:Early stopping conditioned on metric `val_loss` which is not available. Available metrics are: loss\n",
            "Epoch 15/50\n",
            "13/13 - 0s - loss: 7.6167\n",
            "WARNING:tensorflow:Early stopping conditioned on metric `val_loss` which is not available. Available metrics are: loss\n",
            "Epoch 16/50\n",
            "13/13 - 0s - loss: 7.3762\n",
            "WARNING:tensorflow:Early stopping conditioned on metric `val_loss` which is not available. Available metrics are: loss\n",
            "Epoch 17/50\n",
            "13/13 - 0s - loss: 7.1675\n",
            "WARNING:tensorflow:Early stopping conditioned on metric `val_loss` which is not available. Available metrics are: loss\n",
            "Epoch 18/50\n",
            "13/13 - 0s - loss: 7.4020\n",
            "WARNING:tensorflow:Early stopping conditioned on metric `val_loss` which is not available. Available metrics are: loss\n",
            "Epoch 19/50\n",
            "13/13 - 0s - loss: 7.2169\n",
            "WARNING:tensorflow:Early stopping conditioned on metric `val_loss` which is not available. Available metrics are: loss\n",
            "Epoch 20/50\n",
            "13/13 - 0s - loss: 7.0609\n",
            "WARNING:tensorflow:Early stopping conditioned on metric `val_loss` which is not available. Available metrics are: loss\n",
            "Epoch 21/50\n",
            "13/13 - 0s - loss: 7.2377\n",
            "WARNING:tensorflow:Early stopping conditioned on metric `val_loss` which is not available. Available metrics are: loss\n",
            "Epoch 22/50\n",
            "13/13 - 0s - loss: 7.0605\n",
            "WARNING:tensorflow:Early stopping conditioned on metric `val_loss` which is not available. Available metrics are: loss\n",
            "Epoch 23/50\n",
            "13/13 - 0s - loss: 7.3207\n",
            "WARNING:tensorflow:Early stopping conditioned on metric `val_loss` which is not available. Available metrics are: loss\n",
            "Epoch 24/50\n",
            "13/13 - 0s - loss: 6.9884\n",
            "WARNING:tensorflow:Early stopping conditioned on metric `val_loss` which is not available. Available metrics are: loss\n",
            "Epoch 25/50\n",
            "13/13 - 0s - loss: 6.8357\n",
            "WARNING:tensorflow:Early stopping conditioned on metric `val_loss` which is not available. Available metrics are: loss\n",
            "Epoch 26/50\n",
            "13/13 - 0s - loss: 6.7445\n",
            "WARNING:tensorflow:Early stopping conditioned on metric `val_loss` which is not available. Available metrics are: loss\n",
            "Epoch 27/50\n",
            "13/13 - 0s - loss: 6.6630\n",
            "WARNING:tensorflow:Early stopping conditioned on metric `val_loss` which is not available. Available metrics are: loss\n",
            "Epoch 28/50\n",
            "13/13 - 0s - loss: 6.8441\n",
            "WARNING:tensorflow:Early stopping conditioned on metric `val_loss` which is not available. Available metrics are: loss\n",
            "Epoch 29/50\n",
            "13/13 - 0s - loss: 6.7200\n",
            "WARNING:tensorflow:Early stopping conditioned on metric `val_loss` which is not available. Available metrics are: loss\n",
            "Epoch 30/50\n",
            "13/13 - 0s - loss: 6.6303\n",
            "WARNING:tensorflow:Early stopping conditioned on metric `val_loss` which is not available. Available metrics are: loss\n",
            "Epoch 31/50\n",
            "13/13 - 0s - loss: 6.8483\n",
            "WARNING:tensorflow:Early stopping conditioned on metric `val_loss` which is not available. Available metrics are: loss\n",
            "Epoch 32/50\n",
            "13/13 - 0s - loss: 6.3201\n",
            "WARNING:tensorflow:Early stopping conditioned on metric `val_loss` which is not available. Available metrics are: loss\n",
            "Epoch 33/50\n",
            "13/13 - 0s - loss: 6.5732\n",
            "WARNING:tensorflow:Early stopping conditioned on metric `val_loss` which is not available. Available metrics are: loss\n",
            "Epoch 34/50\n",
            "13/13 - 0s - loss: 6.7204\n",
            "WARNING:tensorflow:Early stopping conditioned on metric `val_loss` which is not available. Available metrics are: loss\n",
            "Epoch 35/50\n",
            "13/13 - 0s - loss: 6.5626\n",
            "WARNING:tensorflow:Early stopping conditioned on metric `val_loss` which is not available. Available metrics are: loss\n",
            "Epoch 36/50\n",
            "13/13 - 0s - loss: 6.5045\n",
            "WARNING:tensorflow:Early stopping conditioned on metric `val_loss` which is not available. Available metrics are: loss\n",
            "Epoch 37/50\n",
            "13/13 - 0s - loss: 6.4307\n",
            "WARNING:tensorflow:Early stopping conditioned on metric `val_loss` which is not available. Available metrics are: loss\n",
            "Epoch 38/50\n",
            "13/13 - 0s - loss: 6.5888\n",
            "WARNING:tensorflow:Early stopping conditioned on metric `val_loss` which is not available. Available metrics are: loss\n",
            "Epoch 39/50\n",
            "13/13 - 0s - loss: 6.2329\n",
            "WARNING:tensorflow:Early stopping conditioned on metric `val_loss` which is not available. Available metrics are: loss\n",
            "Epoch 40/50\n",
            "13/13 - 0s - loss: 5.9744\n",
            "WARNING:tensorflow:Early stopping conditioned on metric `val_loss` which is not available. Available metrics are: loss\n",
            "Epoch 41/50\n",
            "13/13 - 0s - loss: 6.1993\n",
            "WARNING:tensorflow:Early stopping conditioned on metric `val_loss` which is not available. Available metrics are: loss\n",
            "Epoch 42/50\n",
            "13/13 - 0s - loss: 6.2976\n",
            "WARNING:tensorflow:Early stopping conditioned on metric `val_loss` which is not available. Available metrics are: loss\n",
            "Epoch 43/50\n",
            "13/13 - 0s - loss: 6.3640\n",
            "WARNING:tensorflow:Early stopping conditioned on metric `val_loss` which is not available. Available metrics are: loss\n",
            "Epoch 44/50\n",
            "13/13 - 0s - loss: 6.0773\n",
            "WARNING:tensorflow:Early stopping conditioned on metric `val_loss` which is not available. Available metrics are: loss\n",
            "Epoch 45/50\n",
            "13/13 - 0s - loss: 6.3112\n",
            "WARNING:tensorflow:Early stopping conditioned on metric `val_loss` which is not available. Available metrics are: loss\n",
            "Epoch 46/50\n",
            "13/13 - 0s - loss: 6.4173\n",
            "WARNING:tensorflow:Early stopping conditioned on metric `val_loss` which is not available. Available metrics are: loss\n",
            "Epoch 47/50\n",
            "13/13 - 0s - loss: 5.7154\n",
            "WARNING:tensorflow:Early stopping conditioned on metric `val_loss` which is not available. Available metrics are: loss\n",
            "Epoch 48/50\n",
            "13/13 - 0s - loss: 6.2538\n",
            "WARNING:tensorflow:Early stopping conditioned on metric `val_loss` which is not available. Available metrics are: loss\n",
            "Epoch 49/50\n",
            "13/13 - 0s - loss: 5.9729\n",
            "WARNING:tensorflow:Early stopping conditioned on metric `val_loss` which is not available. Available metrics are: loss\n",
            "Epoch 50/50\n",
            "13/13 - 0s - loss: 5.9793\n",
            "WARNING:tensorflow:Early stopping conditioned on metric `val_loss` which is not available. Available metrics are: loss\n"
          ],
          "name": "stdout"
        }
      ]
    },
    {
      "cell_type": "code",
      "metadata": {
        "id": "uMqkCNx6__9W",
        "colab": {
          "base_uri": "https://localhost:8080/"
        },
        "outputId": "18a05fbb-59db-4329-c614-7f4cc5733cc8"
      },
      "source": [
        "prediction = model.predict(X_test)\n",
        "y = pd.DataFrame(prediction,Y_test)\n",
        "print(y)"
      ],
      "execution_count": 88,
      "outputs": [
        {
          "output_type": "stream",
          "text": [
            "              0\n",
            "7.2    7.927676\n",
            "18.8  19.556185\n",
            "19.0  21.021145\n",
            "27.0  27.763716\n",
            "22.2  23.582417\n",
            "...         ...\n",
            "21.9  31.977650\n",
            "24.1  24.396593\n",
            "50.0  36.020706\n",
            "26.7  31.005320\n",
            "25.0  23.407042\n",
            "\n",
            "[102 rows x 1 columns]\n"
          ],
          "name": "stdout"
        }
      ]
    },
    {
      "cell_type": "code",
      "metadata": {
        "id": "pj5cFa1ZcnOh"
      },
      "source": [
        ""
      ],
      "execution_count": 88,
      "outputs": []
    }
  ]
}