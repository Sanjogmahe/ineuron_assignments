{
  "nbformat": 4,
  "nbformat_minor": 0,
  "metadata": {
    "colab": {
      "name": "Python Assignment 4.ipynb",
      "provenance": [],
      "authorship_tag": "ABX9TyPzNKQZasjG3lhBl+8iZjGk",
      "include_colab_link": true
    },
    "kernelspec": {
      "name": "python3",
      "display_name": "Python 3"
    },
    "language_info": {
      "name": "python"
    }
  },
  "cells": [
    {
      "cell_type": "markdown",
      "metadata": {
        "id": "view-in-github",
        "colab_type": "text"
      },
      "source": [
        "<a href=\"https://colab.research.google.com/github/Sanjogmahe/ineuron_assignments/blob/main/Python_Assignment_4.ipynb\" target=\"_parent\"><img src=\"https://colab.research.google.com/assets/colab-badge.svg\" alt=\"Open In Colab\"/></a>"
      ]
    },
    {
      "cell_type": "markdown",
      "metadata": {
        "id": "JVp1u63tmF69"
      },
      "source": [
        "1.1 Write a Python Program(with class concepts) to find the area of the triangle using the below  formula. \n",
        "area = (s*(s-a)*(s-b)*(s-c)) ** 0.5 \n",
        "Function to take the length of the sides of triangle from user should be defined in the parent  class and function to calculate the area should be defined in subclass.\n"
      ]
    },
    {
      "cell_type": "code",
      "metadata": {
        "colab": {
          "base_uri": "https://localhost:8080/"
        },
        "id": "jnaHg2Uhkvuc",
        "outputId": "e831fe2d-7cb3-42ee-d689-bdf9e034a597"
      },
      "source": [
        "class Triangle:\n",
        " def __init__(self, side1, side2, side3):\n",
        "  self.side1 = side1\n",
        "  self.side2 = side2\n",
        "  self.side3 = side3\n",
        "  print (\"Initialised Triagle super class [\" +  str(side1) + \",\" + str(side2) + \",\" + str(side3) + \"]\")\n",
        "\n",
        "class Triangle_Utilities(Triangle):\n",
        " \n",
        " def __init__(self, side1, side2, side3):\n",
        "  print (\"Initialised Utils Child class\" )\n",
        "  super(Triangle_Utilities, self).__init__(side1, side2, side3)\n",
        "\n",
        " def get_area(self):\n",
        "  s = (self.side1 + self.side2 + self.side3)/2\n",
        "  print (str(s))\n",
        "  return (s*(s-self.side1)*(s-self.side2)*(s-self.side3))**0.5\n",
        "\n",
        "instance = Triangle_Utilities(3,4,5)\n",
        "print (\"Area of triangle = \" + str(instance.get_area()) )"
      ],
      "execution_count": 1,
      "outputs": [
        {
          "output_type": "stream",
          "text": [
            "Initialised Utils Child class\n",
            "Initialised Triagle super class [3,4,5]\n",
            "6.0\n",
            "Area of triangle = 6.0\n"
          ],
          "name": "stdout"
        }
      ]
    },
    {
      "cell_type": "markdown",
      "metadata": {
        "id": "-dq_oY4doH76"
      },
      "source": [
        "1.2 Write a function filter_long_words() that takes a list of words and an integer n and returns  the list of words that are longer than n. "
      ]
    },
    {
      "cell_type": "code",
      "metadata": {
        "colab": {
          "base_uri": "https://localhost:8080/"
        },
        "id": "pABXLFamnxgF",
        "outputId": "54b544a0-d8f1-443d-e4f3-1696cfe5d87a"
      },
      "source": [
        "class list_Utilities:\n",
        " def __init__(self, wordlist):\n",
        "  self.wordlist = wordlist\n",
        "  print (\"Initialised list_Utilities object\")\n",
        "\n",
        " def filter_long_words(self, n):\n",
        "  return list(filter(lambda x:len(x) > n, self.wordlist))\n",
        "\n",
        "instance = list_Utilities([\"This\",\"is\",\"a\",\"beautiful\",\"day\"])\n",
        "print (\"New List of Words  => \" + str(instance.filter_long_words(3)) ) "
      ],
      "execution_count": 2,
      "outputs": [
        {
          "output_type": "stream",
          "text": [
            "Initialised list_Utilities object\n",
            "New List of Words  => ['This', 'beautiful']\n"
          ],
          "name": "stdout"
        }
      ]
    },
    {
      "cell_type": "markdown",
      "metadata": {
        "id": "icNApJJvo1b4"
      },
      "source": [
        "2.1 Write a Python program using function concept that maps list of words into a list of integers  representing the lengths of the corresponding words. "
      ]
    },
    {
      "cell_type": "code",
      "metadata": {
        "colab": {
          "base_uri": "https://localhost:8080/"
        },
        "id": "tQUEiFqhocIe",
        "outputId": "aa13b7f6-47ea-4dd5-e699-8f02602632d7"
      },
      "source": [
        "def length_of_words(wordlist):\n",
        "  word_length_list = []\n",
        "  for i in wordlist:\n",
        "    word_length_list.append(len(i))\n",
        "  return word_length_list\n",
        "\n",
        "print(length_of_words([\"This\",\"is\",\"a\",\"beautiful\",\"day\"]))\n"
      ],
      "execution_count": 4,
      "outputs": [
        {
          "output_type": "stream",
          "text": [
            "[4, 2, 1, 9, 3]\n"
          ],
          "name": "stdout"
        }
      ]
    },
    {
      "cell_type": "code",
      "metadata": {
        "colab": {
          "base_uri": "https://localhost:8080/"
        },
        "id": "I5yb7kmYqapv",
        "outputId": "27bae433-fb3e-45dc-fb88-b8a730aaae2b"
      },
      "source": [
        "def vowels(charlist):\n",
        "  if charlist in ('a','e','i','o','u'):\n",
        "    return True\n",
        "  else:\n",
        "    return False\n",
        "\n",
        "print(vowels('a'))"
      ],
      "execution_count": 6,
      "outputs": [
        {
          "output_type": "stream",
          "text": [
            "True\n"
          ],
          "name": "stdout"
        }
      ]
    },
    {
      "cell_type": "code",
      "metadata": {
        "id": "RVGY5GsjrQy5"
      },
      "source": [
        ""
      ],
      "execution_count": null,
      "outputs": []
    }
  ]
}