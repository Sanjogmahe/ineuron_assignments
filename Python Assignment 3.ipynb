{
 "cells": [
  {
   "cell_type": "markdown",
   "id": "33b86048",
   "metadata": {},
   "source": [
    "# 1.1 Write a Python Program to implement your own myreduce() function which works exactly like Python's built-in function reduce()"
   ]
  },
  {
   "cell_type": "code",
   "execution_count": 41,
   "id": "6a8b3ece",
   "metadata": {},
   "outputs": [
    {
     "name": "stdout",
     "output_type": "stream",
     "text": [
      "1 + 2 = 3\n",
      "3 + 3 = 6\n"
     ]
    },
    {
     "data": {
      "text/plain": [
       "6"
      ]
     },
     "execution_count": 41,
     "metadata": {},
     "output_type": "execute_result"
    }
   ],
   "source": [
    "def reduce(function, iterable, initializer=None):\n",
    "    it = iter(iterable)\n",
    "    if initializer is None:\n",
    "        value = next(it)\n",
    "    else:\n",
    "        value = initializer\n",
    "    for element in it:\n",
    "        value = function(value, element)\n",
    "    return value\n",
    "\n",
    "def add(a,b):\n",
    "    sum = a+b\n",
    "    print(f\"{a} + {b} = {sum}\")\n",
    "    return sum\n",
    "\n",
    "l= [1,2,3]\n",
    "\n",
    "reduce(add, l)"
   ]
  },
  {
   "cell_type": "markdown",
   "id": "f44b5322",
   "metadata": {},
   "source": [
    "# 1.2 Write a Python program to implement your own myfilter() function which works exactly  like Python's built-in function filter()"
   ]
  },
  {
   "cell_type": "code",
   "execution_count": 48,
   "id": "5cf78d3e",
   "metadata": {},
   "outputs": [
    {
     "name": "stdout",
     "output_type": "stream",
     "text": [
      "Filter only positive Integers on list [0,1,-2,3,4,5] using custom filter function[1, 3, 4, 5]\n"
     ]
    }
   ],
   "source": [
    "# Custom filter function \n",
    "def myfilter(anyfunc, sequence):\n",
    "\n",
    " # Initialize empty list\n",
    " result = []\n",
    " # iterate over sequence of items in sequence and apply filter function\n",
    " for item in sequence:\n",
    "  if anyfunc(item):\n",
    "   result.append(item)\n",
    "\n",
    " # return funal output\n",
    " return result\n",
    "\n",
    "# test myfilter function\n",
    "def ispositive(x):\n",
    " if (x <= 0): \n",
    "  return False \n",
    " else: \n",
    "  return True\n",
    "\n",
    "print (\"Filter only positive Integers on list\"  + str(myfilter(ispositive, [0,1,-2,3,4,5])))"
   ]
  },
  {
   "cell_type": "markdown",
   "id": "d299fdbe",
   "metadata": {},
   "source": [
    "# 2. Implement List comprehensions to produce the following lists.  Write List comprehensions to produce the following Lists \n",
    "['A', 'C', 'A', 'D', 'G', 'I', ’L’, ‘ D’]\n",
    "\n",
    "['x', 'xx', 'xxx', 'xxxx', 'y', 'yy', 'yyy', 'yyyy', 'z', 'zz', 'zzz', 'zzzz']  \n",
    "['x', 'y', 'z', 'xx', 'yy', 'zz', 'xxx', 'yyy', 'zzz', 'xxxx', 'yyyy', 'zzzz']  \n",
    "[[2], [3], [4], [3], [4], [5], [4], [5], [6]] \n",
    "\n",
    "[[2, 3, 4, 5], [3, 4, 5, 6],  [4, 5, 6, 7], [5, 6, 7, 8]] \n"
   ]
  },
  {
   "cell_type": "code",
   "execution_count": 42,
   "id": "a758f3a1",
   "metadata": {},
   "outputs": [
    {
     "name": "stdout",
     "output_type": "stream",
     "text": [
      "['A', 'C', 'A', 'D', 'G', 'I', 'L', 'D']\n"
     ]
    }
   ],
   "source": [
    "string = 'ACADGILD'\n",
    "\n",
    "list_comp_1 = [x for x in string]\n",
    "\n",
    "print(list_comp_1)"
   ]
  },
  {
   "cell_type": "code",
   "execution_count": 43,
   "id": "edea1489",
   "metadata": {},
   "outputs": [
    {
     "name": "stdout",
     "output_type": "stream",
     "text": [
      "['x', 'xx', 'xxx', 'xxxx', 'y', 'yy', 'yyy', 'yyyy', 'z', 'zz', 'zzz', 'zzzz']\n"
     ]
    }
   ],
   "source": [
    "letters = 'xyz'\n",
    "\n",
    "list_comp_2 = [i*j for i in letters for j in range(1,5)]\n",
    "\n",
    "print(list_comp_2)"
   ]
  },
  {
   "cell_type": "code",
   "execution_count": 44,
   "id": "86efa39a",
   "metadata": {},
   "outputs": [
    {
     "name": "stdout",
     "output_type": "stream",
     "text": [
      "['x', 'y', 'z', 'xx', 'yy', 'zz', 'xxx', 'yyy', 'zzz', 'xxxx', 'yyyy', 'zzzz']\n"
     ]
    }
   ],
   "source": [
    "list_comp_3 = [i*j for j in range(1,5) for i in letters ]\n",
    "\n",
    "print(list_comp_3)"
   ]
  },
  {
   "cell_type": "code",
   "execution_count": 45,
   "id": "d9ed23a6",
   "metadata": {},
   "outputs": [
    {
     "name": "stdout",
     "output_type": "stream",
     "text": [
      "[[2], [3], [4], [3], [4], [5], [4], [5], [6]]\n"
     ]
    }
   ],
   "source": [
    "list_comp_4 = [[x+y] for x in range(2,5) for y in range(3)]\n",
    "print(list_comp_4)"
   ]
  },
  {
   "cell_type": "code",
   "execution_count": 46,
   "id": "5827ebba",
   "metadata": {},
   "outputs": [
    {
     "name": "stdout",
     "output_type": "stream",
     "text": [
      "[[2, 3, 4, 5], [3, 4, 5, 6], [4, 5, 6, 7], [5, 6, 7, 8]]\n"
     ]
    }
   ],
   "source": [
    "list_comp_5 = [[x+y for y in range(4)] for x in range(2,6)]\n",
    "print(list_comp_5)"
   ]
  }
 ],
 "metadata": {
  "kernelspec": {
   "display_name": "Python 3",
   "language": "python",
   "name": "python3"
  },
  "language_info": {
   "codemirror_mode": {
    "name": "ipython",
    "version": 3
   },
   "file_extension": ".py",
   "mimetype": "text/x-python",
   "name": "python",
   "nbconvert_exporter": "python",
   "pygments_lexer": "ipython3",
   "version": "3.8.8"
  }
 },
 "nbformat": 4,
 "nbformat_minor": 5
}
